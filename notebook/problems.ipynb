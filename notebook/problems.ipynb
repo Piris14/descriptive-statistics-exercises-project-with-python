{
    "cells": [
        {
            "cell_type": "markdown",
            "id": "ac622319",
            "metadata": {},
            "source": [
                "# Descriptive statistics problems"
            ]
        },
        {
            "cell_type": "markdown",
            "id": "5e0ab0d5",
            "metadata": {},
            "source": [
                "### Exercise 1\n",
                "\n",
                "We will use NumPy to obtain information to describe statistically.\n",
                "\n",
                "- Generate an array of 100 elements following a normal distribution.\n",
                "- Generate an array of 100 elements following a chi-square distribution with 3 degrees of freedom.\n",
                "- Calculate the main metrics and statistical measures that best describe the two vectors."
            ]
        },
        {
            "cell_type": "code",
            "execution_count": 2,
            "id": "34720ab6",
            "metadata": {},
            "outputs": [
                {
                    "name": "stdout",
                    "output_type": "stream",
                    "text": [
                        "Media normal: -0.13841857313155484\n",
                        "Media chi-square: 2.906326715171566\n",
                        "Mediana normal: -0.13758310129319645\n",
                        "Mediana chi-square: 2.906326715171566\n",
                        "Moda normal: -1.7883275613415974\n",
                        "Moda chi-square: 4.939991716325317\n",
                        "Rango normal: 5.71502575753959\n",
                        "Rango chi-square: 14.437150653669415\n",
                        "Varianza normal:1.0411719093227538\n",
                        "Varianza chi-square: 5.021244502848032\n",
                        "Desviación estándar normal: 1.0203783167643037\n",
                        "Desviación estándar chi-square: 2.2408133574325264\n",
                        "Asimetría normal: 0.15902407079710534\n",
                        "Asimetría chi-square: 2.083524398950885\n",
                        "Curtosis normal: 0.21813331438833128\n",
                        "Curtosis chi-squeare: 6.673532881358131\n"
                    ]
                }
            ],
            "source": [
                "# TODO\n",
                "import numpy as np\n",
                "import statistics as stats\n",
                "\n",
                "array_normal = np.random.normal(size=100)\n",
                "array_chi = np.random.chisquare(3, 100)\n",
                "\n",
                "media_normal = stats.mean(array_normal)\n",
                "print(f'Media normal: {media_normal}')\n",
                "media_chi = stats.mean(array_chi)\n",
                "print(f'Media chi-square: {media_chi}')\n",
                "\n",
                "mediana_normal = stats.median(array_normal)\n",
                "print(f'Mediana normal: {mediana_normal}')\n",
                "mediana_chi = stats.median(array_chi)\n",
                "print(f'Mediana chi-square: {media_chi}')\n",
                "\n",
                "moda_normal = stats.mode(array_normal)\n",
                "print(f'Moda normal: {moda_normal}')\n",
                "moda_chi = stats.mode(array_chi)\n",
                "print(f'Moda chi-square: {moda_chi}')\n",
                "\n",
                "rango_normal = max(array_normal) - min(array_normal)\n",
                "print(f'Rango normal: {rango_normal}')\n",
                "rango_chi = max(array_chi) - min(array_chi)\n",
                "print(f'Rango chi-square: {rango_chi}')\n",
                "\n",
                "varianza_normal = stats.variance(array_normal)\n",
                "print(f'Varianza normal:{varianza_normal}')\n",
                "varianza_chi = stats.variance(array_chi)\n",
                "print(f'Varianza chi-square: {varianza_chi}')\n",
                "\n",
                "std_normal = stats.stdev(array_normal)\n",
                "print(f'Desviación estándar normal: {std_normal}')\n",
                "std_chi = stats.stdev(array_chi)\n",
                "print(f'Desviación estándar chi-square: {std_chi}')\n",
                "\n",
                "from scipy.stats import skew\n",
                "skewness_normal = skew(array_normal)\n",
                "print(f'Asimetría normal: {skewness_normal}')\n",
                "skewness_chi = skew(array_chi)\n",
                "print(f'Asimetría chi-square: {skewness_chi}')\n",
                "\n",
                "from scipy.stats import kurtosis\n",
                "kurt_normal = kurtosis(array_normal)\n",
                "print(f'Curtosis normal: {kurt_normal}')\n",
                "kurt_chi = kurtosis(array_chi)\n",
                "print(f'Curtosis chi-squeare: {kurt_chi}')\n",
                "\n"
            ]
        },
        {
            "cell_type": "markdown",
            "id": "46c70c3d",
            "metadata": {},
            "source": [
                "### Exercise 2\n",
                "\n",
                "Write a Python program to calculate the standard deviation of the following data:\n",
                "\n",
                "```py\n",
                "data = [4, 2, 5, 8, 6]\n",
                "```"
            ]
        },
        {
            "cell_type": "code",
            "execution_count": null,
            "id": "d590308e",
            "metadata": {},
            "outputs": [
                {
                    "name": "stdout",
                    "output_type": "stream",
                    "text": [
                        "La desviación estandar es: 2.23606797749979\n"
                    ]
                }
            ],
            "source": [
                "# TODO\n",
                "import math\n",
                "data = [4, 2, 5, 8, 6]\n",
                "\n",
                "media = sum(data) / len(data)\n",
                "cuadrado = [(i - media) ** 2 for i in data]\n",
                "varianza = sum(cuadrado) / (len(data)-1)\n",
                "desviacion_estandar = math.sqrt(varianza)\n",
                "\n",
                "print(f'La desviación estandar es: {desviacion_estandar}')\n",
                "\n"
            ]
        }
    ],
    "metadata": {
        "kernelspec": {
            "display_name": "Python 3",
            "language": "python",
            "name": "python3"
        },
        "language_info": {
            "codemirror_mode": {
                "name": "ipython",
                "version": 3
            },
            "file_extension": ".py",
            "mimetype": "text/x-python",
            "name": "python",
            "nbconvert_exporter": "python",
            "pygments_lexer": "ipython3",
            "version": "3.11.4"
        }
    },
    "nbformat": 4,
    "nbformat_minor": 5
}
